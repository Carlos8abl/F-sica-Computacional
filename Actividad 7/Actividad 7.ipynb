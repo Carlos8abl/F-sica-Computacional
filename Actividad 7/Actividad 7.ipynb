{
 "cells": [
  {
   "cell_type": "code",
   "execution_count": 7,
   "metadata": {},
   "outputs": [],
   "source": [
    "import numpy as np\n",
    "import scipy.linalg as la\n",
    "from numpy.linalg import matrix_power as mpow\n",
    "import matplotlib.pyplot as plt\n",
    "%matplotlib inline"
   ]
  },
  {
   "cell_type": "code",
   "execution_count": 12,
   "metadata": {},
   "outputs": [
    {
     "name": "stdout",
     "output_type": "stream",
     "text": [
      "[[ 1  3]\n",
      " [-1  7]]\n",
      "[[5 2]\n",
      " [1 2]]\n",
      "[[1 0]\n",
      " [0 1]]\n"
     ]
    }
   ],
   "source": [
    "A=np.array([[1, 3],[-1, 7]])\n",
    "B=np.array([[5, 2],[1, 2]])\n",
    "I=np.eye(2, dtype=int)\n",
    "\n",
    "print(A)\n",
    "print(B)\n",
    "print(I)"
   ]
  },
  {
   "cell_type": "code",
   "execution_count": 16,
   "metadata": {},
   "outputs": [
    {
     "name": "stdout",
     "output_type": "stream",
     "text": [
      "[[13 17]\n",
      " [-1 35]]\n"
     ]
    }
   ],
   "source": [
    "C=2*I+3*A+A@B\n",
    "\n",
    "print(C)"
   ]
  },
  {
   "cell_type": "code",
   "execution_count": 17,
   "metadata": {},
   "outputs": [],
   "source": [
    "M=np.array([[1, 3],[-1, 7]])\n",
    "I=np.eye(2, dtype=int)"
   ]
  },
  {
   "cell_type": "code",
   "execution_count": 18,
   "metadata": {},
   "outputs": [],
   "source": [
    "det = la.det(M)\n",
    "tr = np.trace(M)\n",
    "P2 = (det*I) - (tr*M) + (mpow(M,2))"
   ]
  },
  {
   "cell_type": "code",
   "execution_count": 19,
   "metadata": {},
   "outputs": [
    {
     "name": "stdout",
     "output_type": "stream",
     "text": [
      "Determinante :  10.0\n",
      "Traza:  8\n",
      "Matriz Caracteristica: \n",
      "[[0. 0.]\n",
      " [0. 0.]]\n"
     ]
    }
   ],
   "source": [
    "print(\"Determinante : \",det)\n",
    "print(\"Traza: \", tr)\n",
    "print(\"Matriz Caracteristica: \")\n",
    "print(P2)"
   ]
  },
  {
   "cell_type": "code",
   "execution_count": 21,
   "metadata": {},
   "outputs": [],
   "source": [
    "def switch_rows(A,i,j):\n",
    "    \"Intercambiar renglones i y j en la matriz A.\"\n",
    "    n = A.shape[0]\n",
    "    E = np.eye(n)\n",
    "    E[i,i] = 0\n",
    "    E[j,j] = 0\n",
    "    E[i,j] = 1\n",
    "    E[j,i] = 1\n",
    "    return E @ A\n",
    "\n",
    "def scale_row(A,k,i):\n",
    "    \"Multiplicar el renglón i por k en la matriz A.\"\n",
    "    n = A.shape[0]\n",
    "    E = np.eye(n)\n",
    "    E[i,i] = k\n",
    "    return E @ A\n",
    "\n",
    "def add_row(A,k,i,j):\n",
    "    \"Sumar k veces el renglón j al renglón i en la matriz A.\"\n",
    "    n = A.shape[0]\n",
    "    E = np.eye(n)\n",
    "    if i == j:\n",
    "        E[i,i] = k + 1\n",
    "    else:\n",
    "        E[i,j] = k\n",
    "    return E @ A"
   ]
  },
  {
   "cell_type": "code",
   "execution_count": 22,
   "metadata": {},
   "outputs": [
    {
     "name": "stdout",
     "output_type": "stream",
     "text": [
      "[[ 1 -3  1]\n",
      " [ 3 -4  1]\n",
      " [ 0  2 -1]]\n",
      "det(M) =  -1.0000000000000004\n"
     ]
    }
   ],
   "source": [
    "M=np.array([[1,-3,1],[3,-4,1],[0,2,-1]])\n",
    "print(M)\n",
    "print('det(M) = ', la.det(M))"
   ]
  },
  {
   "cell_type": "code",
   "execution_count": 23,
   "metadata": {},
   "outputs": [
    {
     "name": "stdout",
     "output_type": "stream",
     "text": [
      "[[ 1. -3.  1.  1.  0.  0.]\n",
      " [ 3. -4.  1.  0.  1.  0.]\n",
      " [ 0.  2. -1.  0.  0.  1.]]\n"
     ]
    }
   ],
   "source": [
    "A=np.hstack([M,np.eye(3)])\n",
    "print(A)"
   ]
  },
  {
   "cell_type": "code",
   "execution_count": 24,
   "metadata": {},
   "outputs": [
    {
     "name": "stdout",
     "output_type": "stream",
     "text": [
      "[[ 1.         -3.          1.          1.          0.          0.        ]\n",
      " [ 0.          1.66666667 -0.66666667 -1.          0.33333333  0.        ]\n",
      " [ 0.          2.         -1.          0.          0.          1.        ]]\n"
     ]
    }
   ],
   "source": [
    "A1 = scale_row(A,1/3,1)\n",
    "A2 = add_row(A1,-1,1,0)\n",
    "print(A2)"
   ]
  },
  {
   "cell_type": "code",
   "execution_count": 25,
   "metadata": {},
   "outputs": [
    {
     "name": "stdout",
     "output_type": "stream",
     "text": [
      "[[ 1.         -3.          1.          1.          0.          0.        ]\n",
      " [ 0.          1.66666667 -0.66666667 -1.          0.33333333  0.        ]\n",
      " [ 0.          0.         -0.1         0.6        -0.2         0.5       ]]\n"
     ]
    }
   ],
   "source": [
    "A3 = scale_row(A2,1/2,2)\n",
    "A4= add_row(A3,(-3/5.),2,1)\n",
    "print(A4)"
   ]
  },
  {
   "cell_type": "code",
   "execution_count": 26,
   "metadata": {},
   "outputs": [
    {
     "name": "stdout",
     "output_type": "stream",
     "text": [
      "[[ 1.00000000e+00  0.00000000e+00 -1.77635684e-16 -2.00000000e+00\n",
      "   1.00000000e+00 -1.00000000e+00]\n",
      " [ 0.00000000e+00  1.66666667e+00 -2.22044605e-16 -5.00000000e+00\n",
      "   1.66666667e+00 -3.33333333e+00]\n",
      " [ 0.00000000e+00  0.00000000e+00 -1.00000000e-01  6.00000000e-01\n",
      "  -2.00000000e-01  5.00000000e-01]]\n"
     ]
    }
   ],
   "source": [
    "A5 = add_row(A4,10.0,0,2)\n",
    "A6 = add_row(A5,(-20/3),1,2)\n",
    "A7 = add_row(A6,9/5,0,1)\n",
    "print(A7)"
   ]
  },
  {
   "cell_type": "code",
   "execution_count": 27,
   "metadata": {},
   "outputs": [
    {
     "name": "stdout",
     "output_type": "stream",
     "text": [
      "[[ 1.00000000e+00  0.00000000e+00 -1.77635684e-16 -2.00000000e+00\n",
      "   1.00000000e+00 -1.00000000e+00]\n",
      " [ 0.00000000e+00  1.00000000e+00 -1.33226763e-16 -3.00000000e+00\n",
      "   1.00000000e+00 -2.00000000e+00]\n",
      " [ 0.00000000e+00  0.00000000e+00  1.00000000e+00 -6.00000000e+00\n",
      "   2.00000000e+00 -5.00000000e+00]]\n"
     ]
    }
   ],
   "source": [
    "A8 = scale_row(A7,3/5,1)\n",
    "A9 = scale_row(A8,-10,2)\n",
    "print(A9)"
   ]
  },
  {
   "cell_type": "code",
   "execution_count": 32,
   "metadata": {},
   "outputs": [
    {
     "name": "stdout",
     "output_type": "stream",
     "text": [
      "[[-2.  1. -1.]\n",
      " [-3.  1. -2.]\n",
      " [-6.  2. -5.]]\n"
     ]
    }
   ],
   "source": [
    "M_inv=A9[:,3:]\n",
    "print(M_inv)"
   ]
  },
  {
   "cell_type": "code",
   "execution_count": 31,
   "metadata": {},
   "outputs": [
    {
     "name": "stdout",
     "output_type": "stream",
     "text": [
      "[[ 1.00000000e+00 -8.88178420e-16  2.22044605e-16]\n",
      " [-4.44089210e-16  1.00000000e+00  0.00000000e+00]\n",
      " [-8.88178420e-16  0.00000000e+00  1.00000000e+00]]\n"
     ]
    }
   ],
   "source": [
    "result=M_inv @ M\n",
    "print(result)"
   ]
  },
  {
   "cell_type": "code",
   "execution_count": 30,
   "metadata": {},
   "outputs": [
    {
     "data": {
      "text/plain": [
       "array([[-2.,  1., -1.],\n",
       "       [-3.,  1., -2.],\n",
       "       [-6.,  2., -5.]])"
      ]
     },
     "execution_count": 30,
     "metadata": {},
     "output_type": "execute_result"
    }
   ],
   "source": [
    "la.inv(M)"
   ]
  },
  {
   "cell_type": "code",
   "execution_count": 33,
   "metadata": {},
   "outputs": [
    {
     "name": "stdout",
     "output_type": "stream",
     "text": [
      "[[1]\n",
      " [5]\n",
      " [0]]\n"
     ]
    }
   ],
   "source": [
    "b=np.array([1,5,0]).reshape(3,1)\n",
    "print(b)"
   ]
  },
  {
   "cell_type": "code",
   "execution_count": 36,
   "metadata": {},
   "outputs": [
    {
     "name": "stdout",
     "output_type": "stream",
     "text": [
      "[[3.]\n",
      " [2.]\n",
      " [4.]]\n",
      "\n",
      "Solución usando scipy.linalg.solve\n",
      "[[3.]\n",
      " [2.]\n",
      " [4.]]\n"
     ]
    }
   ],
   "source": [
    "x = M_inv @ b \n",
    "print(x)\n",
    "print()\n",
    "print(\"Solución usando scipy.linalg.solve\")\n",
    "x_sol = la.solve(M, b)\n",
    "print(x_sol)"
   ]
  },
  {
   "cell_type": "code",
   "execution_count": 37,
   "metadata": {},
   "outputs": [
    {
     "name": "stdout",
     "output_type": "stream",
     "text": [
      "Matriz B1\n",
      "[[2 0 0]\n",
      " [0 3 4]\n",
      " [0 4 9]]\n",
      "Eigenvalores: [11.+0.j  1.+0.j  2.+0.j]\n",
      "v1= [0.         0.4472136  0.89442719]\n",
      "v2= [ 0.          0.89442719 -0.4472136 ]\n",
      "v3= [1. 0. 0.]\n"
     ]
    }
   ],
   "source": [
    "B1 =np.array([[2,0,0],\n",
    "              [0,3,4],\n",
    "              [0,4,9]])\n",
    "\n",
    "print(\"Matriz B1\")\n",
    "print(B1)\n",
    "\n",
    "eigvalsB1, eigvecsB1=la.eig(B1)\n",
    "\n",
    "print('Eigenvalores:', eigvalsB1)\n",
    "\n",
    "v1 = eigvecsB1[:,0]\n",
    "v2 = eigvecsB1[:,1]\n",
    "v3 = eigvecsB1[:,2]\n",
    "print('v1=',v1)\n",
    "print('v2=',v2)\n",
    "print('v3=',v3)"
   ]
  },
  {
   "cell_type": "code",
   "execution_count": 38,
   "metadata": {},
   "outputs": [
    {
     "name": "stdout",
     "output_type": "stream",
     "text": [
      "Matriz B2\n",
      "[[0 1 0]\n",
      " [0 0 1]\n",
      " [1 0 0]]\n",
      "Eigenvalores: [-0.5+0.8660254j -0.5-0.8660254j  1. +0.j       ]\n",
      "v1= [ 0.57735027+0.j  -0.28867513+0.5j -0.28867513-0.5j]\n",
      "v2= [ 0.57735027-0.j  -0.28867513-0.5j -0.28867513+0.5j]\n",
      "v3= [-0.57735027+0.j -0.57735027+0.j -0.57735027+0.j]\n"
     ]
    }
   ],
   "source": [
    "B2 =np.array([[0,1,0],\n",
    "              [0,0,1],\n",
    "              [1,0,0]])\n",
    "\n",
    "print(\"Matriz B2\")\n",
    "print(B2)\n",
    "\n",
    "eigvalsB2, eigvecsB2 = la.eig(B2)\n",
    "\n",
    "print('Eigenvalores:', eigvalsB2)\n",
    "\n",
    "v1 = eigvecsB2[:,0]\n",
    "v2 = eigvecsB2[:,1]\n",
    "v3 = eigvecsB2[:,2]\n",
    "print('v1=',v1)\n",
    "print('v2=',v2)\n",
    "print('v3=',v3)"
   ]
  },
  {
   "cell_type": "code",
   "execution_count": 39,
   "metadata": {},
   "outputs": [
    {
     "name": "stdout",
     "output_type": "stream",
     "text": [
      "Matriz B2\n",
      "[[2 0 0 0]\n",
      " [1 2 0 0]\n",
      " [0 1 3 0]\n",
      " [0 0 1 3]]\n",
      "Eigenvalores: [3.+0.j 3.+0.j 2.+0.j 2.+0.j]\n",
      "v1= [0. 0. 0. 1.]\n",
      "v2= [ 0.00000000e+00  0.00000000e+00  6.66133815e-16 -1.00000000e+00]\n",
      "v3= [ 0.          0.57735027 -0.57735027  0.57735027]\n",
      "v4= [ 2.56395025e-16 -5.77350269e-01  5.77350269e-01 -5.77350269e-01]\n"
     ]
    }
   ],
   "source": [
    "B3 =np.array([[2,0,0,0],\n",
    "              [1,2,0,0],\n",
    "              [0,1,3,0],\n",
    "              [0,0,1,3]])\n",
    "\n",
    "print(\"Matriz B2\")\n",
    "print(B3)\n",
    "\n",
    "eigvalsB3, eigvecsB3 = la.eig(B3)\n",
    "\n",
    "print('Eigenvalores:', eigvalsB3)\n",
    "\n",
    "v1 = eigvecsB3[:,0]\n",
    "v2 = eigvecsB3[:,1]\n",
    "v3 = eigvecsB3[:,2]\n",
    "v4 = eigvecsB3[:,3]\n",
    "print('v1=',v1)\n",
    "print('v2=',v2)\n",
    "print('v3=',v3)\n",
    "print('v4=',v4)"
   ]
  },
  {
   "cell_type": "code",
   "execution_count": 40,
   "metadata": {},
   "outputs": [
    {
     "data": {
      "image/png": "[encoded data removed]",
      "text/plain": [
       "<Figure size 432x288 with 1 Axes>"
      ]
     },
     "metadata": {
      "needs_background": "light"
     },
     "output_type": "display_data"
    }
   ],
   "source": [
    "N = np.array([[0.0, 0.0], \n",
    "               [0.5, 0.47942], \n",
    "               [1.0 , 0.84147],\n",
    "               [1.5 , 0.99749],\n",
    "               [2.0 , 0.90930],\n",
    "               [2.5 , 0.59847],\n",
    "               [3.0 , 0.14112],\n",
    "               [3.5 ,-0.35078]])\n",
    "\n",
    "i = 0 \n",
    "j = 1 \n",
    "x = [fila[i] for fila in N]\n",
    "y = [fila[j] for fila in N]\n",
    "x = np.array(x)\n",
    "y= np.array(y)\n",
    "\n",
    "plt.plot(x,y,'r.')\n",
    "plt.grid()\n",
    "plt.title('Puntos aleatorios que deseamos interpolar')\n",
    "plt.xlabel('x')\n",
    "plt.ylabel('y')\n",
    "plt.show()"
   ]
  },
  {
   "cell_type": "code",
   "execution_count": 41,
   "metadata": {},
   "outputs": [
    {
     "name": "stdout",
     "output_type": "stream",
     "text": [
      "[[ 1.      0.      0.      0.      0.    ]\n",
      " [ 1.      0.5     0.25    0.125   0.0625]\n",
      " [ 1.      1.      1.      1.      1.    ]\n",
      " [ 1.      1.5     2.25    3.375   5.0625]\n",
      " [ 1.      2.      4.      8.     16.    ]]\n"
     ]
    }
   ],
   "source": [
    "X = np.vander(x,increasing=True)\n",
    "print(X[:5,:5])"
   ]
  },
  {
   "cell_type": "code",
   "execution_count": 42,
   "metadata": {},
   "outputs": [
    {
     "name": "stdout",
     "output_type": "stream",
     "text": [
      "[ 0.00000000e+00  1.00067181e+00 -3.70788889e-03 -1.58867889e-01\n",
      " -8.30222222e-03  1.31964444e-02 -1.54488889e-03  2.46349206e-05]\n"
     ]
    }
   ],
   "source": [
    "a = la.solve(X,y)\n",
    "print(a)"
   ]
  },
  {
   "cell_type": "code",
   "execution_count": 43,
   "metadata": {},
   "outputs": [
    {
     "data": {
      "image/png": "[encoded data removed]",
      "text/plain": [
       "<Figure size 432x288 with 1 Axes>"
      ]
     },
     "metadata": {
      "needs_background": "light"
     },
     "output_type": "display_data"
    }
   ],
   "source": [
    "xs = np.linspace(0,8-1,200)\n",
    "ys = sum([a[k]*xs**k for k in range(0,8)])\n",
    "plt.plot(x,y,'r.',xs,ys);\n",
    "plt.plot(x,np.sin(x),\"g\")\n",
    "plt.grid()\n",
    "plt.title('Polinomio interpolante p(x)')\n",
    "plt.xlabel('x')\n",
    "plt.ylabel('y')\n",
    "plt.show()"
   ]
  },
  {
   "cell_type": "code",
   "execution_count": null,
   "metadata": {},
   "outputs": [],
   "source": []
  }
 ],
 "metadata": {
  "kernelspec": {
   "display_name": "Python 3",
   "language": "python",
   "name": "python3"
  },
  "language_info": {
   "codemirror_mode": {
    "name": "ipython",
    "version": 3
   },
   "file_extension": ".py",
   "mimetype": "text/x-python",
   "name": "python",
   "nbconvert_exporter": "python",
   "pygments_lexer": "ipython3",
   "version": "3.8.5"
  }
 },
 "nbformat": 4,
 "nbformat_minor": 4
}
