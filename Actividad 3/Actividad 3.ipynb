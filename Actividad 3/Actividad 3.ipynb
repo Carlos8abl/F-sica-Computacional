{
 "cells": [
  {
   "cell_type": "markdown",
   "metadata": {},
   "source": [
    "# Actividad 3"
   ]
  },
  {
   "cell_type": "markdown",
   "metadata": {},
   "source": [
    "Importamos las librerías"
   ]
  },
  {
   "cell_type": "code",
   "execution_count": 11,
   "metadata": {},
   "outputs": [],
   "source": [
    "import numpy as np\n",
    "import pandas as pd"
   ]
  },
  {
   "cell_type": "code",
   "execution_count": 12,
   "metadata": {},
   "outputs": [],
   "source": [
    "url=\"https://raw.githubusercontent.com/Carlos8abl/F-sica-Computacional-1/main/Actividad%201/Climatolog%C3%ADaDiaria26160.txt\"\n",
    "type_data=['Fecha', 'Precip', 'Evap', 'Tmax', 'Tmin']\n",
    "df_dist=pd.read_csv(url, names=type_data,encoding='cp1251', sep='\\s+', header=None, skiprows=19, skipfooter=1, engine='python')\n"
   ]
  },
  {
   "cell_type": "markdown",
   "metadata": {},
   "source": [
    "Primeras (head) y últimas (tail) 10 filas del archivo."
   ]
  },
  {
   "cell_type": "code",
   "execution_count": 13,
   "metadata": {},
   "outputs": [
    {
     "name": "stdout",
     "output_type": "stream",
     "text": [
      "        Fecha Precip  Evap  Tmax Tmin\n",
      "0  02/01/1969      0  Nulo  Nulo    0\n",
      "1  03/01/1969      0  Nulo    24    2\n",
      "2  04/01/1969      0  Nulo    25    3\n",
      "3  06/01/1969      0  Nulo    22    4\n",
      "4  07/01/1969      0  Nulo    21    3\n",
      "5  08/01/1969      0  Nulo    30    4\n",
      "6  09/01/1969      0  Nulo    28    5\n",
      "7  10/01/1969      0  Nulo    28    5\n",
      "8  11/01/1969      0  Nulo    25    3\n",
      "9  13/01/1969      0  Nulo    27    4\n",
      "            Fecha Precip  Evap  Tmax  Tmin\n",
      "14253  21/04/2016      0  Nulo    37     9\n",
      "14254  22/04/2016      0  Nulo    36    10\n",
      "14255  23/04/2016      0  Nulo  Nulo    12\n",
      "14256  24/04/2016      0  Nulo    33  Nulo\n",
      "14257  25/04/2016      0  Nulo    30    10\n",
      "14258  26/04/2016      0  Nulo    27     9\n",
      "14259  27/04/2016      0  Nulo    31     6\n",
      "14260  28/04/2016      0  Nulo    28     8\n",
      "14261  29/04/2016      0  Nulo    30     6\n",
      "14262  30/04/2016      0  Nulo    30     7\n"
     ]
    }
   ],
   "source": [
    "print(df_dist.head(10))\n",
    "print(df_dist.tail(10))"
   ]
  },
  {
   "cell_type": "markdown",
   "metadata": {},
   "source": [
    "En la mayor parte de mis datos la precipitación es 0 o nula y la evaporación nula. "
   ]
  },
  {
   "cell_type": "markdown",
   "metadata": {},
   "source": [
    "Dimensiones (shape) del dataframe."
   ]
  },
  {
   "cell_type": "code",
   "execution_count": 14,
   "metadata": {},
   "outputs": [
    {
     "data": {
      "text/plain": [
       "(14263, 5)"
      ]
     },
     "execution_count": 14,
     "metadata": {},
     "output_type": "execute_result"
    }
   ],
   "source": [
    "df_dist.shape"
   ]
  },
  {
   "cell_type": "markdown",
   "metadata": {},
   "source": [
    "Información (info) del dataframe."
   ]
  },
  {
   "cell_type": "code",
   "execution_count": 15,
   "metadata": {},
   "outputs": [
    {
     "name": "stdout",
     "output_type": "stream",
     "text": [
      "<class 'pandas.core.frame.DataFrame'>\n",
      "RangeIndex: 14263 entries, 0 to 14262\n",
      "Data columns (total 5 columns):\n",
      " #   Column  Non-Null Count  Dtype \n",
      "---  ------  --------------  ----- \n",
      " 0   Fecha   14263 non-null  object\n",
      " 1   Precip  14263 non-null  object\n",
      " 2   Evap    14263 non-null  object\n",
      " 3   Tmax    14263 non-null  object\n",
      " 4   Tmin    14263 non-null  object\n",
      "dtypes: object(5)\n",
      "memory usage: 557.3+ KB\n"
     ]
    }
   ],
   "source": [
    "df_dist.info()"
   ]
  },
  {
   "cell_type": "markdown",
   "metadata": {},
   "source": [
    "Copia (copy) del archivo."
   ]
  },
  {
   "cell_type": "code",
   "execution_count": 16,
   "metadata": {},
   "outputs": [],
   "source": [
    "df_work0=df_dist.copy()"
   ]
  },
  {
   "cell_type": "markdown",
   "metadata": {},
   "source": [
    "Primeras 10 filas de la copia."
   ]
  },
  {
   "cell_type": "code",
   "execution_count": 17,
   "metadata": {},
   "outputs": [
    {
     "data": {
      "text/html": [
       "<div>\n",
       "<style scoped>\n",
       "    .dataframe tbody tr th:only-of-type {\n",
       "        vertical-align: middle;\n",
       "    }\n",
       "\n",
       "    .dataframe tbody tr th {\n",
       "        vertical-align: top;\n",
       "    }\n",
       "\n",
       "    .dataframe thead th {\n",
       "        text-align: right;\n",
       "    }\n",
       "</style>\n",
       "<table border=\"1\" class=\"dataframe\">\n",
       "  <thead>\n",
       "    <tr style=\"text-align: right;\">\n",
       "      <th></th>\n",
       "      <th>Fecha</th>\n",
       "      <th>Precip</th>\n",
       "      <th>Evap</th>\n",
       "      <th>Tmax</th>\n",
       "      <th>Tmin</th>\n",
       "    </tr>\n",
       "  </thead>\n",
       "  <tbody>\n",
       "    <tr>\n",
       "      <th>0</th>\n",
       "      <td>02/01/1969</td>\n",
       "      <td>0</td>\n",
       "      <td>Nulo</td>\n",
       "      <td>Nulo</td>\n",
       "      <td>0</td>\n",
       "    </tr>\n",
       "    <tr>\n",
       "      <th>1</th>\n",
       "      <td>03/01/1969</td>\n",
       "      <td>0</td>\n",
       "      <td>Nulo</td>\n",
       "      <td>24</td>\n",
       "      <td>2</td>\n",
       "    </tr>\n",
       "    <tr>\n",
       "      <th>2</th>\n",
       "      <td>04/01/1969</td>\n",
       "      <td>0</td>\n",
       "      <td>Nulo</td>\n",
       "      <td>25</td>\n",
       "      <td>3</td>\n",
       "    </tr>\n",
       "    <tr>\n",
       "      <th>3</th>\n",
       "      <td>06/01/1969</td>\n",
       "      <td>0</td>\n",
       "      <td>Nulo</td>\n",
       "      <td>22</td>\n",
       "      <td>4</td>\n",
       "    </tr>\n",
       "    <tr>\n",
       "      <th>4</th>\n",
       "      <td>07/01/1969</td>\n",
       "      <td>0</td>\n",
       "      <td>Nulo</td>\n",
       "      <td>21</td>\n",
       "      <td>3</td>\n",
       "    </tr>\n",
       "    <tr>\n",
       "      <th>5</th>\n",
       "      <td>08/01/1969</td>\n",
       "      <td>0</td>\n",
       "      <td>Nulo</td>\n",
       "      <td>30</td>\n",
       "      <td>4</td>\n",
       "    </tr>\n",
       "    <tr>\n",
       "      <th>6</th>\n",
       "      <td>09/01/1969</td>\n",
       "      <td>0</td>\n",
       "      <td>Nulo</td>\n",
       "      <td>28</td>\n",
       "      <td>5</td>\n",
       "    </tr>\n",
       "    <tr>\n",
       "      <th>7</th>\n",
       "      <td>10/01/1969</td>\n",
       "      <td>0</td>\n",
       "      <td>Nulo</td>\n",
       "      <td>28</td>\n",
       "      <td>5</td>\n",
       "    </tr>\n",
       "    <tr>\n",
       "      <th>8</th>\n",
       "      <td>11/01/1969</td>\n",
       "      <td>0</td>\n",
       "      <td>Nulo</td>\n",
       "      <td>25</td>\n",
       "      <td>3</td>\n",
       "    </tr>\n",
       "    <tr>\n",
       "      <th>9</th>\n",
       "      <td>13/01/1969</td>\n",
       "      <td>0</td>\n",
       "      <td>Nulo</td>\n",
       "      <td>27</td>\n",
       "      <td>4</td>\n",
       "    </tr>\n",
       "  </tbody>\n",
       "</table>\n",
       "</div>"
      ],
      "text/plain": [
       "        Fecha Precip  Evap  Tmax Tmin\n",
       "0  02/01/1969      0  Nulo  Nulo    0\n",
       "1  03/01/1969      0  Nulo    24    2\n",
       "2  04/01/1969      0  Nulo    25    3\n",
       "3  06/01/1969      0  Nulo    22    4\n",
       "4  07/01/1969      0  Nulo    21    3\n",
       "5  08/01/1969      0  Nulo    30    4\n",
       "6  09/01/1969      0  Nulo    28    5\n",
       "7  10/01/1969      0  Nulo    28    5\n",
       "8  11/01/1969      0  Nulo    25    3\n",
       "9  13/01/1969      0  Nulo    27    4"
      ]
     },
     "execution_count": 17,
     "metadata": {},
     "output_type": "execute_result"
    }
   ],
   "source": [
    "df_work0.head(10)"
   ]
  },
  {
   "cell_type": "markdown",
   "metadata": {},
   "source": [
    "Reemplazo (replace) del dato \"Nulo\" por \"No medido\"."
   ]
  },
  {
   "cell_type": "code",
   "execution_count": 18,
   "metadata": {},
   "outputs": [],
   "source": [
    "str_Nulo=\"Nulo\"\n",
    "df_work1=df_work0.replace(to_replace=str_Nulo, value='No medido', regex=True)"
   ]
  },
  {
   "cell_type": "markdown",
   "metadata": {},
   "source": [
    "Primeras 10 filas del archivo con el reemplazo incluido."
   ]
  },
  {
   "cell_type": "code",
   "execution_count": 19,
   "metadata": {},
   "outputs": [
    {
     "data": {
      "text/html": [
       "<div>\n",
       "<style scoped>\n",
       "    .dataframe tbody tr th:only-of-type {\n",
       "        vertical-align: middle;\n",
       "    }\n",
       "\n",
       "    .dataframe tbody tr th {\n",
       "        vertical-align: top;\n",
       "    }\n",
       "\n",
       "    .dataframe thead th {\n",
       "        text-align: right;\n",
       "    }\n",
       "</style>\n",
       "<table border=\"1\" class=\"dataframe\">\n",
       "  <thead>\n",
       "    <tr style=\"text-align: right;\">\n",
       "      <th></th>\n",
       "      <th>Fecha</th>\n",
       "      <th>Precip</th>\n",
       "      <th>Evap</th>\n",
       "      <th>Tmax</th>\n",
       "      <th>Tmin</th>\n",
       "    </tr>\n",
       "  </thead>\n",
       "  <tbody>\n",
       "    <tr>\n",
       "      <th>0</th>\n",
       "      <td>02/01/1969</td>\n",
       "      <td>0</td>\n",
       "      <td>No medido</td>\n",
       "      <td>No medido</td>\n",
       "      <td>0</td>\n",
       "    </tr>\n",
       "    <tr>\n",
       "      <th>1</th>\n",
       "      <td>03/01/1969</td>\n",
       "      <td>0</td>\n",
       "      <td>No medido</td>\n",
       "      <td>24</td>\n",
       "      <td>2</td>\n",
       "    </tr>\n",
       "    <tr>\n",
       "      <th>2</th>\n",
       "      <td>04/01/1969</td>\n",
       "      <td>0</td>\n",
       "      <td>No medido</td>\n",
       "      <td>25</td>\n",
       "      <td>3</td>\n",
       "    </tr>\n",
       "    <tr>\n",
       "      <th>3</th>\n",
       "      <td>06/01/1969</td>\n",
       "      <td>0</td>\n",
       "      <td>No medido</td>\n",
       "      <td>22</td>\n",
       "      <td>4</td>\n",
       "    </tr>\n",
       "    <tr>\n",
       "      <th>4</th>\n",
       "      <td>07/01/1969</td>\n",
       "      <td>0</td>\n",
       "      <td>No medido</td>\n",
       "      <td>21</td>\n",
       "      <td>3</td>\n",
       "    </tr>\n",
       "    <tr>\n",
       "      <th>5</th>\n",
       "      <td>08/01/1969</td>\n",
       "      <td>0</td>\n",
       "      <td>No medido</td>\n",
       "      <td>30</td>\n",
       "      <td>4</td>\n",
       "    </tr>\n",
       "    <tr>\n",
       "      <th>6</th>\n",
       "      <td>09/01/1969</td>\n",
       "      <td>0</td>\n",
       "      <td>No medido</td>\n",
       "      <td>28</td>\n",
       "      <td>5</td>\n",
       "    </tr>\n",
       "    <tr>\n",
       "      <th>7</th>\n",
       "      <td>10/01/1969</td>\n",
       "      <td>0</td>\n",
       "      <td>No medido</td>\n",
       "      <td>28</td>\n",
       "      <td>5</td>\n",
       "    </tr>\n",
       "    <tr>\n",
       "      <th>8</th>\n",
       "      <td>11/01/1969</td>\n",
       "      <td>0</td>\n",
       "      <td>No medido</td>\n",
       "      <td>25</td>\n",
       "      <td>3</td>\n",
       "    </tr>\n",
       "    <tr>\n",
       "      <th>9</th>\n",
       "      <td>13/01/1969</td>\n",
       "      <td>0</td>\n",
       "      <td>No medido</td>\n",
       "      <td>27</td>\n",
       "      <td>4</td>\n",
       "    </tr>\n",
       "  </tbody>\n",
       "</table>\n",
       "</div>"
      ],
      "text/plain": [
       "        Fecha Precip       Evap       Tmax Tmin\n",
       "0  02/01/1969      0  No medido  No medido    0\n",
       "1  03/01/1969      0  No medido         24    2\n",
       "2  04/01/1969      0  No medido         25    3\n",
       "3  06/01/1969      0  No medido         22    4\n",
       "4  07/01/1969      0  No medido         21    3\n",
       "5  08/01/1969      0  No medido         30    4\n",
       "6  09/01/1969      0  No medido         28    5\n",
       "7  10/01/1969      0  No medido         28    5\n",
       "8  11/01/1969      0  No medido         25    3\n",
       "9  13/01/1969      0  No medido         27    4"
      ]
     },
     "execution_count": 19,
     "metadata": {},
     "output_type": "execute_result"
    }
   ],
   "source": [
    "df_work1.head(10)"
   ]
  },
  {
   "cell_type": "markdown",
   "metadata": {},
   "source": [
    "Información con los cambios incluidos."
   ]
  },
  {
   "cell_type": "code",
   "execution_count": 20,
   "metadata": {},
   "outputs": [
    {
     "name": "stdout",
     "output_type": "stream",
     "text": [
      "<class 'pandas.core.frame.DataFrame'>\n",
      "RangeIndex: 14263 entries, 0 to 14262\n",
      "Data columns (total 5 columns):\n",
      " #   Column  Non-Null Count  Dtype \n",
      "---  ------  --------------  ----- \n",
      " 0   Fecha   14263 non-null  object\n",
      " 1   Precip  14263 non-null  object\n",
      " 2   Evap    14263 non-null  object\n",
      " 3   Tmax    14263 non-null  object\n",
      " 4   Tmin    14263 non-null  object\n",
      "dtypes: object(5)\n",
      "memory usage: 557.3+ KB\n",
      "        Fecha Precip       Evap       Tmax Tmin\n",
      "0  02/01/1969      0  No medido  No medido    0\n",
      "1  03/01/1969      0  No medido         24    2\n",
      "2  04/01/1969      0  No medido         25    3\n",
      "3  06/01/1969      0  No medido         22    4\n",
      "4  07/01/1969      0  No medido         21    3\n",
      "5  08/01/1969      0  No medido         30    4\n",
      "6  09/01/1969      0  No medido         28    5\n",
      "7  10/01/1969      0  No medido         28    5\n",
      "8  11/01/1969      0  No medido         25    3\n",
      "9  13/01/1969      0  No medido         27    4\n"
     ]
    }
   ],
   "source": [
    "df_work1.info()\n",
    "print(df_work1.head(10))"
   ]
  },
  {
   "cell_type": "markdown",
   "metadata": {},
   "source": [
    "Convertir a número flotante (numeric) las variables."
   ]
  },
  {
   "cell_type": "code",
   "execution_count": 21,
   "metadata": {},
   "outputs": [],
   "source": [
    "cols_list = ['Precip', 'Evap', 'Tmax', 'Tmin']\n",
    "for cols in cols_list:\n",
    "  df_work1[cols] = pd.to_numeric(df_work1[cols], errors='coerce')"
   ]
  },
  {
   "cell_type": "markdown",
   "metadata": {},
   "source": [
    "Información actualizada."
   ]
  },
  {
   "cell_type": "code",
   "execution_count": 22,
   "metadata": {},
   "outputs": [
    {
     "name": "stdout",
     "output_type": "stream",
     "text": [
      "<class 'pandas.core.frame.DataFrame'>\n",
      "RangeIndex: 14263 entries, 0 to 14262\n",
      "Data columns (total 5 columns):\n",
      " #   Column  Non-Null Count  Dtype  \n",
      "---  ------  --------------  -----  \n",
      " 0   Fecha   14263 non-null  object \n",
      " 1   Precip  14184 non-null  float64\n",
      " 2   Evap    2899 non-null   float64\n",
      " 3   Tmax    14094 non-null  float64\n",
      " 4   Tmin    14096 non-null  float64\n",
      "dtypes: float64(4), object(1)\n",
      "memory usage: 557.3+ KB\n"
     ]
    }
   ],
   "source": [
    "df_work1.info()"
   ]
  },
  {
   "cell_type": "markdown",
   "metadata": {},
   "source": [
    "Suma de los valores no medidos."
   ]
  },
  {
   "cell_type": "code",
   "execution_count": 23,
   "metadata": {},
   "outputs": [
    {
     "data": {
      "text/plain": [
       "Fecha         0\n",
       "Precip       79\n",
       "Evap      11364\n",
       "Tmax        169\n",
       "Tmin        167\n",
       "dtype: int64"
      ]
     },
     "execution_count": 23,
     "metadata": {},
     "output_type": "execute_result"
    }
   ],
   "source": [
    "df_work1.isnull().sum()"
   ]
  },
  {
   "cell_type": "markdown",
   "metadata": {},
   "source": [
    "Primeras y últimas 10 filas del archivo."
   ]
  },
  {
   "cell_type": "code",
   "execution_count": 24,
   "metadata": {},
   "outputs": [
    {
     "name": "stdout",
     "output_type": "stream",
     "text": [
      "        Fecha  Precip  Evap  Tmax  Tmin\n",
      "0  02/01/1969     0.0   NaN   NaN   0.0\n",
      "1  03/01/1969     0.0   NaN  24.0   2.0\n",
      "2  04/01/1969     0.0   NaN  25.0   3.0\n",
      "3  06/01/1969     0.0   NaN  22.0   4.0\n",
      "4  07/01/1969     0.0   NaN  21.0   3.0\n",
      "5  08/01/1969     0.0   NaN  30.0   4.0\n",
      "6  09/01/1969     0.0   NaN  28.0   5.0\n",
      "7  10/01/1969     0.0   NaN  28.0   5.0\n",
      "8  11/01/1969     0.0   NaN  25.0   3.0\n",
      "9  13/01/1969     0.0   NaN  27.0   4.0\n",
      "            Fecha  Precip  Evap  Tmax  Tmin\n",
      "14253  21/04/2016     0.0   NaN  37.0   9.0\n",
      "14254  22/04/2016     0.0   NaN  36.0  10.0\n",
      "14255  23/04/2016     0.0   NaN   NaN  12.0\n",
      "14256  24/04/2016     0.0   NaN  33.0   NaN\n",
      "14257  25/04/2016     0.0   NaN  30.0  10.0\n",
      "14258  26/04/2016     0.0   NaN  27.0   9.0\n",
      "14259  27/04/2016     0.0   NaN  31.0   6.0\n",
      "14260  28/04/2016     0.0   NaN  28.0   8.0\n",
      "14261  29/04/2016     0.0   NaN  30.0   6.0\n",
      "14262  30/04/2016     0.0   NaN  30.0   7.0\n"
     ]
    }
   ],
   "source": [
    "print(df_work1.head(10))\n",
    "print(df_work1.tail(10))"
   ]
  },
  {
   "cell_type": "markdown",
   "metadata": {},
   "source": [
    "Análisis estadístico (describe) con un redondeo (round) de cuatro cifras significativas con el fin de interpretar los datos."
   ]
  },
  {
   "cell_type": "code",
   "execution_count": 25,
   "metadata": {},
   "outputs": [
    {
     "data": {
      "text/html": [
       "<div>\n",
       "<style scoped>\n",
       "    .dataframe tbody tr th:only-of-type {\n",
       "        vertical-align: middle;\n",
       "    }\n",
       "\n",
       "    .dataframe tbody tr th {\n",
       "        vertical-align: top;\n",
       "    }\n",
       "\n",
       "    .dataframe thead th {\n",
       "        text-align: right;\n",
       "    }\n",
       "</style>\n",
       "<table border=\"1\" class=\"dataframe\">\n",
       "  <thead>\n",
       "    <tr style=\"text-align: right;\">\n",
       "      <th></th>\n",
       "      <th>Precip</th>\n",
       "      <th>Evap</th>\n",
       "      <th>Tmax</th>\n",
       "      <th>Tmin</th>\n",
       "    </tr>\n",
       "  </thead>\n",
       "  <tbody>\n",
       "    <tr>\n",
       "      <th>count</th>\n",
       "      <td>14184.0000</td>\n",
       "      <td>2899.0000</td>\n",
       "      <td>14094.0000</td>\n",
       "      <td>14096.0000</td>\n",
       "    </tr>\n",
       "    <tr>\n",
       "      <th>mean</th>\n",
       "      <td>1.0812</td>\n",
       "      <td>5.9220</td>\n",
       "      <td>30.5383</td>\n",
       "      <td>9.9910</td>\n",
       "    </tr>\n",
       "    <tr>\n",
       "      <th>std</th>\n",
       "      <td>4.7423</td>\n",
       "      <td>3.2555</td>\n",
       "      <td>7.2035</td>\n",
       "      <td>7.2683</td>\n",
       "    </tr>\n",
       "    <tr>\n",
       "      <th>min</th>\n",
       "      <td>0.0000</td>\n",
       "      <td>0.1000</td>\n",
       "      <td>3.0000</td>\n",
       "      <td>-9.5000</td>\n",
       "    </tr>\n",
       "    <tr>\n",
       "      <th>25%</th>\n",
       "      <td>0.0000</td>\n",
       "      <td>3.4000</td>\n",
       "      <td>25.5000</td>\n",
       "      <td>4.0000</td>\n",
       "    </tr>\n",
       "    <tr>\n",
       "      <th>50%</th>\n",
       "      <td>0.0000</td>\n",
       "      <td>5.5000</td>\n",
       "      <td>31.0000</td>\n",
       "      <td>8.5000</td>\n",
       "    </tr>\n",
       "    <tr>\n",
       "      <th>75%</th>\n",
       "      <td>0.0000</td>\n",
       "      <td>8.1000</td>\n",
       "      <td>36.0000</td>\n",
       "      <td>16.5000</td>\n",
       "    </tr>\n",
       "    <tr>\n",
       "      <th>max</th>\n",
       "      <td>120.0000</td>\n",
       "      <td>16.9000</td>\n",
       "      <td>48.0000</td>\n",
       "      <td>30.0000</td>\n",
       "    </tr>\n",
       "  </tbody>\n",
       "</table>\n",
       "</div>"
      ],
      "text/plain": [
       "           Precip       Evap        Tmax        Tmin\n",
       "count  14184.0000  2899.0000  14094.0000  14096.0000\n",
       "mean       1.0812     5.9220     30.5383      9.9910\n",
       "std        4.7423     3.2555      7.2035      7.2683\n",
       "min        0.0000     0.1000      3.0000     -9.5000\n",
       "25%        0.0000     3.4000     25.5000      4.0000\n",
       "50%        0.0000     5.5000     31.0000      8.5000\n",
       "75%        0.0000     8.1000     36.0000     16.5000\n",
       "max      120.0000    16.9000     48.0000     30.0000"
      ]
     },
     "execution_count": 25,
     "metadata": {},
     "output_type": "execute_result"
    }
   ],
   "source": [
    "df_work1.describe().round(4)"
   ]
  },
  {
   "cell_type": "markdown",
   "metadata": {},
   "source": [
    "Nueva copia del archivo."
   ]
  },
  {
   "cell_type": "code",
   "execution_count": 26,
   "metadata": {},
   "outputs": [],
   "source": [
    "df_work2=df_work1.copy()"
   ]
  },
  {
   "cell_type": "markdown",
   "metadata": {},
   "source": [
    "Primeras 10 filas de la columna Fecha."
   ]
  },
  {
   "cell_type": "code",
   "execution_count": 27,
   "metadata": {},
   "outputs": [
    {
     "data": {
      "text/plain": [
       "0    02/01/1969\n",
       "1    03/01/1969\n",
       "2    04/01/1969\n",
       "3    06/01/1969\n",
       "4    07/01/1969\n",
       "5    08/01/1969\n",
       "6    09/01/1969\n",
       "7    10/01/1969\n",
       "8    11/01/1969\n",
       "9    13/01/1969\n",
       "Name: Fecha, dtype: object"
      ]
     },
     "execution_count": 27,
     "metadata": {},
     "output_type": "execute_result"
    }
   ],
   "source": [
    "df_work2[\"Fecha\"].head(10)"
   ]
  },
  {
   "cell_type": "markdown",
   "metadata": {},
   "source": [
    "Cambio al formato de la fecha (to_datetime) a uno compatible con python."
   ]
  },
  {
   "cell_type": "code",
   "execution_count": 28,
   "metadata": {},
   "outputs": [],
   "source": [
    "df_work2['Fecha']=pd.to_datetime(df_work2['Fecha'], dayfirst=True).copy()"
   ]
  },
  {
   "cell_type": "markdown",
   "metadata": {},
   "source": [
    "Información de las varibles (dtypes)."
   ]
  },
  {
   "cell_type": "code",
   "execution_count": 29,
   "metadata": {},
   "outputs": [
    {
     "data": {
      "text/plain": [
       "Fecha     datetime64[ns]\n",
       "Precip           float64\n",
       "Evap             float64\n",
       "Tmax             float64\n",
       "Tmin             float64\n",
       "dtype: object"
      ]
     },
     "execution_count": 29,
     "metadata": {},
     "output_type": "execute_result"
    }
   ],
   "source": [
    "df_work2.dtypes"
   ]
  },
  {
   "cell_type": "markdown",
   "metadata": {},
   "source": [
    "Inclusión de dos columnas adicionales con el año y el mes (dt.year , dt.month)"
   ]
  },
  {
   "cell_type": "code",
   "execution_count": 30,
   "metadata": {},
   "outputs": [],
   "source": [
    "df_work2['Año'] = df_work2['Fecha'].dt.year\n",
    "df_work2['Mes'] = df_work2['Fecha'].dt.month"
   ]
  },
  {
   "cell_type": "markdown",
   "metadata": {},
   "source": [
    "Primeras y últimas 10 filas del archvo con las nuevas columnas agregadas. "
   ]
  },
  {
   "cell_type": "code",
   "execution_count": 31,
   "metadata": {
    "scrolled": true
   },
   "outputs": [
    {
     "name": "stdout",
     "output_type": "stream",
     "text": [
      "       Fecha  Precip  Evap  Tmax  Tmin   Año  Mes\n",
      "0 1969-01-02     0.0   NaN   NaN   0.0  1969    1\n",
      "1 1969-01-03     0.0   NaN  24.0   2.0  1969    1\n",
      "2 1969-01-04     0.0   NaN  25.0   3.0  1969    1\n",
      "3 1969-01-06     0.0   NaN  22.0   4.0  1969    1\n",
      "4 1969-01-07     0.0   NaN  21.0   3.0  1969    1\n",
      "5 1969-01-08     0.0   NaN  30.0   4.0  1969    1\n",
      "6 1969-01-09     0.0   NaN  28.0   5.0  1969    1\n",
      "7 1969-01-10     0.0   NaN  28.0   5.0  1969    1\n",
      "8 1969-01-11     0.0   NaN  25.0   3.0  1969    1\n",
      "9 1969-01-13     0.0   NaN  27.0   4.0  1969    1\n",
      "           Fecha  Precip  Evap  Tmax  Tmin   Año  Mes\n",
      "14253 2016-04-21     0.0   NaN  37.0   9.0  2016    4\n",
      "14254 2016-04-22     0.0   NaN  36.0  10.0  2016    4\n",
      "14255 2016-04-23     0.0   NaN   NaN  12.0  2016    4\n",
      "14256 2016-04-24     0.0   NaN  33.0   NaN  2016    4\n",
      "14257 2016-04-25     0.0   NaN  30.0  10.0  2016    4\n",
      "14258 2016-04-26     0.0   NaN  27.0   9.0  2016    4\n",
      "14259 2016-04-27     0.0   NaN  31.0   6.0  2016    4\n",
      "14260 2016-04-28     0.0   NaN  28.0   8.0  2016    4\n",
      "14261 2016-04-29     0.0   NaN  30.0   6.0  2016    4\n",
      "14262 2016-04-30     0.0   NaN  30.0   7.0  2016    4\n"
     ]
    }
   ],
   "source": [
    "print(df_work2.head(10))\n",
    "print(df_work2.tail(10))"
   ]
  },
  {
   "cell_type": "markdown",
   "metadata": {},
   "source": [
    "Información de todas las varibles incluyendo las nuevas."
   ]
  },
  {
   "cell_type": "code",
   "execution_count": 32,
   "metadata": {},
   "outputs": [
    {
     "name": "stdout",
     "output_type": "stream",
     "text": [
      "<class 'pandas.core.frame.DataFrame'>\n",
      "RangeIndex: 14263 entries, 0 to 14262\n",
      "Data columns (total 7 columns):\n",
      " #   Column  Non-Null Count  Dtype         \n",
      "---  ------  --------------  -----         \n",
      " 0   Fecha   14263 non-null  datetime64[ns]\n",
      " 1   Precip  14184 non-null  float64       \n",
      " 2   Evap    2899 non-null   float64       \n",
      " 3   Tmax    14094 non-null  float64       \n",
      " 4   Tmin    14096 non-null  float64       \n",
      " 5   Año     14263 non-null  int64         \n",
      " 6   Mes     14263 non-null  int64         \n",
      "dtypes: datetime64[ns](1), float64(4), int64(2)\n",
      "memory usage: 780.1 KB\n"
     ]
    }
   ],
   "source": [
    "df_work2.info()"
   ]
  }
 ],
 "metadata": {
  "kernelspec": {
   "display_name": "Python 3",
   "language": "python",
   "name": "python3"
  },
  "language_info": {
   "codemirror_mode": {
    "name": "ipython",
    "version": 3
   },
   "file_extension": ".py",
   "mimetype": "text/x-python",
   "name": "python",
   "nbconvert_exporter": "python",
   "pygments_lexer": "ipython3",
   "version": "3.8.5"
  }
 },
 "nbformat": 4,
 "nbformat_minor": 4
}
