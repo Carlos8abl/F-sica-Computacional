{
  "nbformat": 4,
  "nbformat_minor": 0,
  "metadata": {
    "kernelspec": {
      "display_name": "Python 3",
      "language": "python",
      "name": "python3"
    },
    "language_info": {
      "codemirror_mode": {
        "name": "ipython",
        "version": 3
      },
      "file_extension": ".py",
      "mimetype": "text/x-python",
      "name": "python",
      "nbconvert_exporter": "python",
      "pygments_lexer": "ipython3",
      "version": "3.8.5"
    },
    "colab": {
      "name": "Actividad 2.ipynb",
      "provenance": []
    }
  },
  "cells": [
    {
      "cell_type": "markdown",
      "metadata": {
        "id": "rnr074ti_R9W"
      },
      "source": [
        "# Actividad 2"
      ]
    },
    {
      "cell_type": "code",
      "metadata": {
        "id": "w4IVJHMw_R9b"
      },
      "source": [
        "import numpy as np"
      ],
      "execution_count": 4,
      "outputs": []
    },
    {
      "cell_type": "code",
      "metadata": {
        "id": "UKPbdMfz_R9d"
      },
      "source": [
        "import matplotlib.pyplot as plt"
      ],
      "execution_count": 5,
      "outputs": []
    },
    {
      "cell_type": "markdown",
      "metadata": {
        "id": "gCpmZy1S_R9e"
      },
      "source": [
        "# Ejemplos de clase"
      ]
    },
    {
      "cell_type": "code",
      "metadata": {
        "id": "v2Sc3-0k_R9f",
        "outputId": "118e2fb4-30b8-4c2e-9471-ca237d5cb6a0"
      },
      "source": [
        "print(np.pi)"
      ],
      "execution_count": null,
      "outputs": [
        {
          "output_type": "stream",
          "text": [
            "3.141592653589793\n"
          ],
          "name": "stdout"
        }
      ]
    },
    {
      "cell_type": "code",
      "metadata": {
        "scrolled": true,
        "id": "xr09-KxE_R9h",
        "outputId": "a3ab8fb7-8c24-451e-8710-8cff0b6756c9"
      },
      "source": [
        "np.sqrt(np.pi)"
      ],
      "execution_count": null,
      "outputs": [
        {
          "output_type": "execute_result",
          "data": {
            "text/plain": [
              "1.7724538509055159"
            ]
          },
          "metadata": {
            "tags": []
          },
          "execution_count": 6
        }
      ]
    },
    {
      "cell_type": "code",
      "metadata": {
        "id": "KzUhNvZm_R9j",
        "outputId": "85244c1d-fd0a-4226-f998-13a0aef40887"
      },
      "source": [
        "np.sin(np.sqrt(np.pi))"
      ],
      "execution_count": null,
      "outputs": [
        {
          "output_type": "execute_result",
          "data": {
            "text/plain": [
              "0.9797359324758174"
            ]
          },
          "metadata": {
            "tags": []
          },
          "execution_count": 15
        }
      ]
    },
    {
      "cell_type": "code",
      "metadata": {
        "id": "y9oR0pfQ_R9k",
        "outputId": "8dc56cc0-b9db-4feb-f94c-11f56aeb06f5"
      },
      "source": [
        "lista1 = [1,2,3,4]\n",
        "lista2 = [1,2,3,4]\n",
        "\n",
        "print(lista1)\n",
        "print(lista2)\n",
        "print(lista1+lista2)"
      ],
      "execution_count": null,
      "outputs": [
        {
          "output_type": "stream",
          "text": [
            "[1, 2, 3, 4]\n",
            "[1, 2, 3, 4]\n",
            "[1, 2, 3, 4, 1, 2, 3, 4]\n"
          ],
          "name": "stdout"
        }
      ]
    },
    {
      "cell_type": "code",
      "metadata": {
        "id": "OHNr4wGl_R9l",
        "outputId": "2ed62c82-e363-4242-8e4a-943f01eb34ce"
      },
      "source": [
        "s1 = np.array([1,2,3,4])      \n",
        "s2 = np.array([1,2,3,4.0])   \n",
        "s3 = np.array([1,2,3,'4'])     \n",
        "s4 = np.arange(0,5,0.5)     \n",
        "s5 = np.linspace(0,5,20) \n",
        "\n",
        "print(s1[2])      \n",
        "print(s1[1:3])\n",
        "\n",
        "x = np.array([1,2,3,4])\n",
        "y = np.array([1,2,3,4])\n",
        "\n",
        "x1 = np.array([[0, 1], [1, 5]])\n",
        "y1 = np.array([[4, 0], [0, 4]])\n",
        "\n",
        "x+y     \n",
        "x/y  \n",
        "2*x    \n",
        "x**2     \n",
        "x @ y             \n",
        "np.dot(x,y)      \n",
        "np.sum(x)     \n",
        "np.sqrt(x)      \n",
        "np.exp(x)       \n",
        "np.log(x)"
      ],
      "execution_count": null,
      "outputs": [
        {
          "output_type": "stream",
          "text": [
            "3\n",
            "[2 3]\n"
          ],
          "name": "stdout"
        },
        {
          "output_type": "execute_result",
          "data": {
            "text/plain": [
              "array([0.        , 0.69314718, 1.09861229, 1.38629436])"
            ]
          },
          "metadata": {
            "tags": []
          },
          "execution_count": 17
        }
      ]
    },
    {
      "cell_type": "code",
      "metadata": {
        "id": "trz6A6_d_R9n",
        "outputId": "37943a62-f4d8-42d4-c90f-c4bcbad2b095"
      },
      "source": [
        "a = np.array([[1,2,3],\n",
        "              [6,9,3],\n",
        "              [5,7,3],\n",
        "              [4,5,1]])\n",
        "print(a)"
      ],
      "execution_count": null,
      "outputs": [
        {
          "output_type": "stream",
          "text": [
            "[[1 2 3]\n",
            " [6 9 3]\n",
            " [5 7 3]\n",
            " [4 5 1]]\n"
          ],
          "name": "stdout"
        }
      ]
    },
    {
      "cell_type": "code",
      "metadata": {
        "id": "iWnrCWef_R9p",
        "outputId": "867626f2-0a73-45d0-8f55-8aa38019bee0"
      },
      "source": [
        "a[:,1]"
      ],
      "execution_count": null,
      "outputs": [
        {
          "output_type": "execute_result",
          "data": {
            "text/plain": [
              "array([2, 9, 7, 5])"
            ]
          },
          "metadata": {
            "tags": []
          },
          "execution_count": 19
        }
      ]
    },
    {
      "cell_type": "code",
      "metadata": {
        "colab": {
          "base_uri": "https://localhost:8080/",
          "height": 171
        },
        "id": "7DCSToKR_R9q",
        "outputId": "1d607163-b653-4954-c9d6-455d120d3bd5"
      },
      "source": [
        "x = np.linspace(-np.pi,np.pi,100)\n",
        "y = np.sin(x)     \n",
        "y1 = x\n",
        "y3 = x**3\n",
        "y5 = x**5\n",
        "sT = y1 - y3 + y5 \n",
        "\n",
        "plt.subplot(111)\n",
        "plt.xlabel(\"X label\")\n",
        "plt.ylabel(\"Y label\")\n",
        "plt.title(\"Title\")\n",
        "\n",
        "plt.plot(x,y, label=\"sin(x)\")\n",
        "plt.plot(x,y1, label='x')\n",
        "plt.plot(x,sT, label='Serie Taylor Orden 5')\n",
        "\n",
        "plt.grid(True)\n",
        "plt.ylim(-2, 2)\n",
        "plt.legend(bbox_to_anchor=(1,1), loc=\"upper left\")\n",
        "plt.show()"
      ],
      "execution_count": null,
      "outputs": [
        {
          "output_type": "display_data",
          "data": {
            "image/png": "[encoded data removed]",
            "text/plain": [
              "<Figure size 432x288 with 1 Axes>"
            ]
          },
          "metadata": {
            "tags": [],
            "needs_background": "light"
          }
        }
      ]
    },
    {
      "cell_type": "markdown",
      "metadata": {
        "id": "Ypbzn7zh_R9w"
      },
      "source": [
        "# Ejercicio 1"
      ]
    },
    {
      "cell_type": "markdown",
      "metadata": {
        "id": "aoG7tmZI_R9x"
      },
      "source": [
        "En esta parte del ejercicio 1 haremos un programa que nos permita calcular el área de un círculo, para esto usaremos la siguiente ecuación:\n",
        "\n",
        "$a=\\pi r^2$ , donde $r$ es el radio de la circunferencia."
      ]
    },
    {
      "cell_type": "code",
      "metadata": {
        "id": "1ZGEnRu7_R9y",
        "outputId": "7e35281d-06af-4798-89c2-b7c50b244642"
      },
      "source": [
        "print(\"Proporcione el radio de la circunferencia: \", end=\"\")\n",
        "r=float(input())\n",
        "a=(np.pi*r**2)\n",
        "print(\"\\nÁrea = \", a)\n",
        "print(\"\\nÁrea = {:.2f}\" .format(a))"
      ],
      "execution_count": null,
      "outputs": [
        {
          "output_type": "stream",
          "text": [
            "Proporcione el radio de la circunferencia: 48\n",
            "\n",
            "Área =  7238.229473870883\n",
            "\n",
            "Área = 7238.23\n"
          ],
          "name": "stdout"
        }
      ]
    },
    {
      "cell_type": "markdown",
      "metadata": {
        "id": "kp2rWV2g_R90"
      },
      "source": [
        "Ahora necesitamos hacerlo para una elipse, usaremos la ecuación:\n",
        "\n",
        "$area=\\pi ab$ ,  donde $a$ y $b$ son el semieje mayor y el semieje menor respectivamente."
      ]
    },
    {
      "cell_type": "code",
      "metadata": {
        "id": "35Yd5qGW_R91",
        "outputId": "6bfd17ce-5984-48ba-f52e-f48399e18764"
      },
      "source": [
        "print(\"Proporcione el semieje mayor y el semieje menor: \", end=\"\")\n",
        "a=float(input())\n",
        "b=float(input())\n",
        "área=(np.pi*a*b)\n",
        "print(\"\\nÁrea = \", área)\n",
        "print(\"\\nÁrea = {:.2f}\" .format(área))"
      ],
      "execution_count": null,
      "outputs": [
        {
          "output_type": "stream",
          "text": [
            "Proporcione el semieje mayor y el semieje menor: 230\n",
            "180\n",
            "\n",
            "Área =  130061.93585861745\n",
            "\n",
            "Área = 130061.94\n"
          ],
          "name": "stdout"
        }
      ]
    },
    {
      "cell_type": "markdown",
      "metadata": {
        "id": "uSjCh_9J_R92"
      },
      "source": [
        "En este caso nuestro código se encargará de calcular el volumen de una esfera, usaremos la ecuación:\n",
        "\n",
        "$v=\\frac{4}{3}(\\pi r^3)$"
      ]
    },
    {
      "cell_type": "code",
      "metadata": {
        "id": "WJdkqrmI_R94",
        "outputId": "893812b0-497d-48d3-8b8b-a7b6613d0a0f"
      },
      "source": [
        "print(\"Proporcione el radio de la esfera: \", end=\"\")\n",
        "r=float(input())\n",
        "v=(4/3)*(np.pi)*(r**3)\n",
        "print(\"\\nVolumen = \", v)\n",
        "print(\"\\nVolumen = {:.2f}\" .format(v))"
      ],
      "execution_count": null,
      "outputs": [
        {
          "output_type": "stream",
          "text": [
            "Proporcione el radio de la esfera: 74\n",
            "\n",
            "Volumen =  1697398.3219443604\n",
            "\n",
            "Volumen = 1697398.32\n"
          ],
          "name": "stdout"
        }
      ]
    },
    {
      "cell_type": "markdown",
      "metadata": {
        "id": "1ll0A_Rj_R94"
      },
      "source": [
        "Pára terminar con el ejercicio 1, el siguiente calculará el volumen de un cilindro circular, para ello precisamos de esta ecuación:\n",
        "\n",
        "$v=\\pi hr^2$"
      ]
    },
    {
      "cell_type": "code",
      "metadata": {
        "id": "yfmSgvm2_R95",
        "outputId": "f48baacd-0301-410b-c059-6b12b2ead36a"
      },
      "source": [
        "print(\"Proporcione el radio y la altura del cilindro: \", end=\"\")\n",
        "r=float(input())\n",
        "h=float(input())\n",
        "v=np.pi*h*r**2\n",
        "print(\"\\nVolumen = \", v)\n",
        "print(\"\\nVolumen = {:.2f}\" .format(v))"
      ],
      "execution_count": null,
      "outputs": [
        {
          "output_type": "stream",
          "text": [
            "Proporcione el radio y la altura del cilindro: 45\n",
            "60\n",
            "\n",
            "Volumen =  381703.5074111598\n",
            "\n",
            "Volumen = 381703.51\n"
          ],
          "name": "stdout"
        }
      ]
    },
    {
      "cell_type": "markdown",
      "metadata": {
        "id": "ETsEBxL__R96"
      },
      "source": [
        "# Ejercicio 2"
      ]
    },
    {
      "cell_type": "code",
      "metadata": {
        "scrolled": true,
        "id": "b458sz5b_R97",
        "outputId": "bcea5ac9-3672-4e33-84b9-e4265cb35290"
      },
      "source": [
        "print(\"Introduzca los coeficientes de la ecuación cuadrática\", end=\"\")\n",
        "a=float(input())\n",
        "b=float(input())\n",
        "c=float(input())\n",
        "\n",
        "d=b**2-(4*a*c)\n",
        "\n",
        "if d >= 0:\n",
        "    \n",
        "    X=(-b+np.sqrt(d))/(2*a)\n",
        "\n",
        "    Y=(-b-np.sqrt(d))/(2*a)\n",
        "    print(\"\\nRaices = \", X , Y)\n",
        "    \n",
        "    print(\"\\nRaíz 1 = {:.4f}\" .format(X))\n",
        "    print(\"\\nRaíz 2 = {:.4f}\" .format(Y))\n",
        "    \n",
        "elif d==0:\n",
        "    \n",
        "    X=(-b+np.sqrt(d))/(2*a)\n",
        "    \n",
        "    Y=(-b+np.sqrt(d))/(2*a)\n",
        "    \n",
        "    print(\"\\nRaices =\", X , Y)\n",
        "    \n",
        "    print(\"\\nRaíz 1 = {:.4f}\" .format(X))\n",
        "    \n",
        "    print(\"\\nRaíz 2 = {:.4f}\" .format(Y))\n",
        "    \n",
        "\n",
        "else:\n",
        "    print(\"Las raices de esta ecuación son de números complejos\")\n",
        "    \n"
      ],
      "execution_count": null,
      "outputs": [
        {
          "output_type": "stream",
          "text": [
            "Introduzca los coeficientes de la ecuación cuadrática4\n",
            "-3\n",
            "0\n",
            "\n",
            "Raices =  0.75 0.0\n",
            "\n",
            "Raíz 1 = 0.7500\n",
            "\n",
            "Raíz 2 = 0.0000\n"
          ],
          "name": "stdout"
        }
      ]
    },
    {
      "cell_type": "markdown",
      "metadata": {
        "id": "s46KLWiV_R98"
      },
      "source": [
        "# Ejercicio 3"
      ]
    },
    {
      "cell_type": "code",
      "metadata": {
        "id": "VfLbKrfy_R99",
        "outputId": "d782b90d-e313-4486-eda8-5391e5909d88"
      },
      "source": [
        "print(\"Introduzca el número del que desea saber su raíz cuadráda\", end=\"\" )\n",
        "\n",
        "S=float(input())\n",
        "\n",
        "X0=np.sqrt(S)\n",
        "\n",
        "print(\"La raíz por el método tradicional es:\", X0)\n",
        "\n",
        "print(\"Introduzca un número arbitrario lo más cercano a\", X0)\n",
        "\n",
        "XN=float(input())\n",
        "\n",
        "i=1\n",
        "\n",
        "XN=1/2*(XN+(S/XN))\n",
        "\n",
        "while abs(S-XN**2)>0.01:\n",
        "    \n",
        "    print(\"Ciclo\", i, \":\", XN )\n",
        "    \n",
        "    XN=1/2*(XN+(S/XN))\n",
        "    \n",
        "    i=i+1\n",
        "    \n",
        "    if i>101:\n",
        "        \n",
        "        break\n",
        "        \n",
        "print(\"El valor obtenido para la raiz de\", S, \"por el método de Herón es:\", XN)\n",
        "\n",
        "print(\"Raíz por el método tradicional:\", X0)\n",
        "\n",
        "print(\"Raíz por el método de Herón:\", XN)\n",
        "\n",
        "print(\"Error en la aproximación de:\", (S-XN**2))\n",
        "\n"
      ],
      "execution_count": null,
      "outputs": [
        {
          "output_type": "stream",
          "text": [
            "Introduzca el número del que desea saber su raíz cuadráda1948\n",
            "La raíz por el método tradicional es: 44.13615298142782\n",
            "Introduzca un número arbitrario lo más cercano a 44.13615298142782\n",
            "40\n",
            "Ciclo 1 : 44.35\n",
            "Ciclo 2 : 44.136668545659525\n",
            "El valor obtenido para la raiz de 1948.0 por el método de Herón es: 44.13615298443899\n",
            "Raíz por el método tradicional: 44.13615298142782\n",
            "Raíz por el método de Herón: 44.13615298443899\n",
            "Error en la aproximación de: -2.658030098245945e-07\n"
          ],
          "name": "stdout"
        }
      ]
    },
    {
      "cell_type": "markdown",
      "metadata": {
        "id": "NWyKsCdu_R99"
      },
      "source": [
        "# Ejercicio 4"
      ]
    },
    {
      "cell_type": "code",
      "metadata": {
        "colab": {
          "base_uri": "https://localhost:8080/",
          "height": 317
        },
        "id": "nL7Lgq4U_R9-",
        "outputId": "0319fd51-7590-4338-9589-5c096aa1fd68"
      },
      "source": [
        "x=np.linspace(-1.5,1.5,100) \n",
        "y=np.log(1+x)\n",
        "\n",
        "T4=x-x**2/2+x**3/3-x**4/4\n",
        "T7=x-x**2/2+x**3/3-x**4/4+x**5/5-x**6/6+x**7/7\n",
        "T11=(x-x**2/2+x**3/3-x**4/4+x**5/5-x**6/6+x**7/7-x**8/8+x**9/9-x**(10)/10+x**(11)/11)\n",
        "T16=(x-x**2/2+x**3/3-x**4/4+x**5/5-x**6/6+x**7/7-x**8/8+x**9/9-x**(10)/10+x**(11)/11-x**(12)/12+x**(13)/13-x**(14)/14+x**(15)/15-x**(16)/16)\n",
        "\n",
        "plt.subplot(111)\n",
        "plt.xlabel(\"X\")\n",
        "plt.ylabel(\"Y\")\n",
        "\n",
        "plt.plot(x,T4, label='Serie de Taylor de orden 4')\n",
        "plt.plot(x,T7, label='Serie de Taylor de orden 7')\n",
        "plt.plot(x,T11, label='Serie de Taylor de orden 11')\n",
        "plt.plot(x,T16, label='Serie de Taylor de orden 16')\n",
        "plt.plot(x,y, label='ln(1+x)')\n",
        "\n",
        "plt.grid(True)\n",
        "\n",
        "plt.ylim(-4, 2)\n",
        "\n",
        "plt.legend(bbox_to_anchor=(1,1), loc=\"upper left\")\n",
        "\n",
        "plt.show()"
      ],
      "execution_count": 6,
      "outputs": [
        {
          "output_type": "stream",
          "text": [
            "/usr/local/lib/python3.6/dist-packages/ipykernel_launcher.py:2: RuntimeWarning: invalid value encountered in log\n",
            "  \n"
          ],
          "name": "stderr"
        },
        {
          "output_type": "display_data",
          "data": {
            "image/png": "[encoded data removed]",
            "text/plain": [
              "<Figure size 432x288 with 1 Axes>"
            ]
          },
          "metadata": {
            "tags": [],
            "needs_background": "light"
          }
        }
      ]
    },
    {
      "cell_type": "code",
      "metadata": {
        "id": "NcCPiK1A_R9_"
      },
      "source": [
        ""
      ],
      "execution_count": null,
      "outputs": []
    }
  ]
}