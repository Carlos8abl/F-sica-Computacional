{
 "cells": [
  {
   "cell_type": "markdown",
   "metadata": {},
   "source": [
    "# Actividad 2"
   ]
  },
  {
   "cell_type": "code",
   "execution_count": 8,
   "metadata": {},
   "outputs": [],
   "source": [
    "import numpy as np"
   ]
  },
  {
   "cell_type": "code",
   "execution_count": 9,
   "metadata": {},
   "outputs": [],
   "source": [
    "import matplotlib.pyplot as plt"
   ]
  },
  {
   "cell_type": "markdown",
   "metadata": {},
   "source": [
    "# Ejemplos de clase"
   ]
  },
  {
   "cell_type": "code",
   "execution_count": 11,
   "metadata": {},
   "outputs": [
    {
     "name": "stdout",
     "output_type": "stream",
     "text": [
      "3.141592653589793\n"
     ]
    }
   ],
   "source": [
    "print(np.pi)"
   ]
  },
  {
   "cell_type": "code",
   "execution_count": 6,
   "metadata": {
    "scrolled": true
   },
   "outputs": [
    {
     "data": {
      "text/plain": [
       "1.7724538509055159"
      ]
     },
     "execution_count": 6,
     "metadata": {},
     "output_type": "execute_result"
    }
   ],
   "source": [
    "np.sqrt(np.pi)"
   ]
  },
  {
   "cell_type": "code",
   "execution_count": 15,
   "metadata": {},
   "outputs": [
    {
     "data": {
      "text/plain": [
       "0.9797359324758174"
      ]
     },
     "execution_count": 15,
     "metadata": {},
     "output_type": "execute_result"
    }
   ],
   "source": [
    "np.sin(np.sqrt(np.pi))"
   ]
  },
  {
   "cell_type": "code",
   "execution_count": 16,
   "metadata": {},
   "outputs": [
    {
     "name": "stdout",
     "output_type": "stream",
     "text": [
      "[1, 2, 3, 4]\n",
      "[1, 2, 3, 4]\n",
      "[1, 2, 3, 4, 1, 2, 3, 4]\n"
     ]
    }
   ],
   "source": [
    "lista1 = [1,2,3,4]\n",
    "lista2 = [1,2,3,4]\n",
    "\n",
    "print(lista1)\n",
    "print(lista2)\n",
    "print(lista1+lista2)"
   ]
  },
  {
   "cell_type": "code",
   "execution_count": 17,
   "metadata": {},
   "outputs": [
    {
     "name": "stdout",
     "output_type": "stream",
     "text": [
      "3\n",
      "[2 3]\n"
     ]
    },
    {
     "data": {
      "text/plain": [
       "array([0.        , 0.69314718, 1.09861229, 1.38629436])"
      ]
     },
     "execution_count": 17,
     "metadata": {},
     "output_type": "execute_result"
    }
   ],
   "source": [
    "s1 = np.array([1,2,3,4])      \n",
    "s2 = np.array([1,2,3,4.0])   \n",
    "s3 = np.array([1,2,3,'4'])     \n",
    "s4 = np.arange(0,5,0.5)     \n",
    "s5 = np.linspace(0,5,20) \n",
    "\n",
    "print(s1[2])      \n",
    "print(s1[1:3])\n",
    "\n",
    "x = np.array([1,2,3,4])\n",
    "y = np.array([1,2,3,4])\n",
    "\n",
    "x1 = np.array([[0, 1], [1, 5]])\n",
    "y1 = np.array([[4, 0], [0, 4]])\n",
    "\n",
    "x+y     \n",
    "x/y  \n",
    "2*x    \n",
    "x**2     \n",
    "x @ y             \n",
    "np.dot(x,y)      \n",
    "np.sum(x)     \n",
    "np.sqrt(x)      \n",
    "np.exp(x)       \n",
    "np.log(x)"
   ]
  },
  {
   "cell_type": "code",
   "execution_count": 18,
   "metadata": {},
   "outputs": [
    {
     "name": "stdout",
     "output_type": "stream",
     "text": [
      "[[1 2 3]\n",
      " [6 9 3]\n",
      " [5 7 3]\n",
      " [4 5 1]]\n"
     ]
    }
   ],
   "source": [
    "a = np.array([[1,2,3],\n",
    "              [6,9,3],\n",
    "              [5,7,3],\n",
    "              [4,5,1]])\n",
    "print(a)"
   ]
  },
  {
   "cell_type": "code",
   "execution_count": 19,
   "metadata": {},
   "outputs": [
    {
     "data": {
      "text/plain": [
       "array([2, 9, 7, 5])"
      ]
     },
     "execution_count": 19,
     "metadata": {},
     "output_type": "execute_result"
    }
   ],
   "source": [
    "a[:,1]"
   ]
  },
  {
   "cell_type": "code",
   "execution_count": 20,
   "metadata": {},
   "outputs": [
    {
     "data": {
      "image/png": "[encoded data removed]",
      "text/plain": [
       "<Figure size 432x288 with 1 Axes>"
      ]
     },
     "metadata": {
      "needs_background": "light"
     },
     "output_type": "display_data"
    }
   ],
   "source": [
    "x = np.linspace(-np.pi,np.pi,100)\n",
    "y = np.sin(x)     \n",
    "y1 = x\n",
    "y3 = x**3\n",
    "y5 = x**5\n",
    "sT = y1 - y3 + y5 \n",
    "\n",
    "plt.subplot(111)\n",
    "plt.xlabel(\"X label\")\n",
    "plt.ylabel(\"Y label\")\n",
    "plt.title(\"Title\")\n",
    "\n",
    "plt.plot(x,y, label=\"sin(x)\")\n",
    "plt.plot(x,y1, label='x')\n",
    "plt.plot(x,sT, label='Serie Taylor Orden 5')\n",
    "\n",
    "plt.grid(True)\n",
    "plt.ylim(-2, 2)\n",
    "plt.legend(bbox_to_anchor=(1,1), loc=\"upper left\")\n",
    "plt.show()"
   ]
  },
  {
   "cell_type": "markdown",
   "metadata": {},
   "source": [
    "# Ejercicio 1"
   ]
  },
  {
   "cell_type": "raw",
   "metadata": {},
   "source": [
    "En esta parte del ejercicio 1 haremos un programa que nos permita calcular el área de un círculo, para esto usaremos la siguiente ecuación:\n",
    "\n",
    "$a=\\pi r^2$ , donde $r$ es el radio de la circunferencia."
   ]
  },
  {
   "cell_type": "code",
   "execution_count": 19,
   "metadata": {},
   "outputs": [
    {
     "name": "stdout",
     "output_type": "stream",
     "text": [
      "Proporcione el radio de la circunferencia: 48\n",
      "\n",
      "Área =  7238.229473870883\n",
      "\n",
      "Área = 7238.23\n"
     ]
    }
   ],
   "source": [
    "print(\"Proporcione el radio de la circunferencia: \", end=\"\")\n",
    "r=float(input())\n",
    "a=(np.pi*r**2)\n",
    "print(\"\\nÁrea = \", a)\n",
    "print(\"\\nÁrea = {:.2f}\" .format(a))"
   ]
  },
  {
   "cell_type": "raw",
   "metadata": {},
   "source": [
    "Ahora necesitamos hacerlo para una elipse, usaremos la ecuación:\n",
    "\n",
    "$area=\\pi ab$ ,  donde $a$ y $b$ son el semieje mayor y el semieje menor respectivamente."
   ]
  },
  {
   "cell_type": "code",
   "execution_count": 20,
   "metadata": {},
   "outputs": [
    {
     "name": "stdout",
     "output_type": "stream",
     "text": [
      "Proporcione el semieje mayor y el semieje menor: 230\n",
      "180\n",
      "\n",
      "Área =  130061.93585861745\n",
      "\n",
      "Área = 130061.94\n"
     ]
    }
   ],
   "source": [
    "print(\"Proporcione el semieje mayor y el semieje menor: \", end=\"\")\n",
    "a=float(input())\n",
    "b=float(input())\n",
    "área=(np.pi*a*b)\n",
    "print(\"\\nÁrea = \", área)\n",
    "print(\"\\nÁrea = {:.2f}\" .format(área))"
   ]
  },
  {
   "cell_type": "raw",
   "metadata": {},
   "source": [
    "En este caso nuestro código se encargará de calcular el volumen de una esfera, usaremos la ecuación:\n",
    "\n",
    "$v=\\frac{4}{3}(\\pi r^3)$"
   ]
  },
  {
   "cell_type": "code",
   "execution_count": 21,
   "metadata": {},
   "outputs": [
    {
     "name": "stdout",
     "output_type": "stream",
     "text": [
      "Proporcione el radio de la esfera: 74\n",
      "\n",
      "Volumen =  1697398.3219443604\n",
      "\n",
      "Volumen = 1697398.32\n"
     ]
    }
   ],
   "source": [
    "print(\"Proporcione el radio de la esfera: \", end=\"\")\n",
    "r=float(input())\n",
    "v=(4/3)*(np.pi)*(r**3)\n",
    "print(\"\\nVolumen = \", v)\n",
    "print(\"\\nVolumen = {:.2f}\" .format(v))"
   ]
  },
  {
   "cell_type": "raw",
   "metadata": {},
   "source": [
    "Pára terminar con el ejercicio 1, el siguiente calculará el volumen de un cilindro circular, para ello precisamos de esta ecuación:\n",
    "\n",
    "$v=\\pi hr^2$"
   ]
  },
  {
   "cell_type": "code",
   "execution_count": 22,
   "metadata": {},
   "outputs": [
    {
     "name": "stdout",
     "output_type": "stream",
     "text": [
      "Proporcione el radio y la altura del cilindro: 45\n",
      "60\n",
      "\n",
      "Volumen =  381703.5074111598\n",
      "\n",
      "Volumen = 381703.51\n"
     ]
    }
   ],
   "source": [
    "print(\"Proporcione el radio y la altura del cilindro: \", end=\"\")\n",
    "r=float(input())\n",
    "h=float(input())\n",
    "v=np.pi*h*r**2\n",
    "print(\"\\nVolumen = \", v)\n",
    "print(\"\\nVolumen = {:.2f}\" .format(v))"
   ]
  },
  {
   "cell_type": "markdown",
   "metadata": {},
   "source": [
    "# Ejercicio 2"
   ]
  },
  {
   "cell_type": "code",
   "execution_count": 10,
   "metadata": {
    "scrolled": true
   },
   "outputs": [
    {
     "name": "stdout",
     "output_type": "stream",
     "text": [
      "Introduzca los coeficientes de la ecuación cuadrática4\n",
      "-3\n",
      "0\n",
      "\n",
      "Raices =  0.75 0.0\n",
      "\n",
      "Raíz 1 = 0.7500\n",
      "\n",
      "Raíz 2 = 0.0000\n"
     ]
    }
   ],
   "source": [
    "print(\"Introduzca los coeficientes de la ecuación cuadrática\", end=\"\")\n",
    "a=float(input())\n",
    "b=float(input())\n",
    "c=float(input())\n",
    "\n",
    "d=b**2-(4*a*c)\n",
    "\n",
    "if d >= 0:\n",
    "    \n",
    "    X=(-b+np.sqrt(d))/(2*a)\n",
    "\n",
    "    Y=(-b-np.sqrt(d))/(2*a)\n",
    "    print(\"\\nRaices = \", X , Y)\n",
    "    \n",
    "    print(\"\\nRaíz 1 = {:.4f}\" .format(X))\n",
    "    print(\"\\nRaíz 2 = {:.4f}\" .format(Y))\n",
    "    \n",
    "elif d==0:\n",
    "    \n",
    "    X=(-b+np.sqrt(d))/(2*a)\n",
    "    \n",
    "    Y=(-b+np.sqrt(d))/(2*a)\n",
    "    \n",
    "    print(\"\\nRaices =\", X , Y)\n",
    "    \n",
    "    print(\"\\nRaíz 1 = {:.4f}\" .format(X))\n",
    "    \n",
    "    print(\"\\nRaíz 2 = {:.4f}\" .format(Y))\n",
    "    \n",
    "\n",
    "else:\n",
    "    print(\"Las raices de esta ecuación son de números complejos\")\n",
    "    \n"
   ]
  },
  {
   "cell_type": "markdown",
   "metadata": {},
   "source": [
    "# Ejercicio 3"
   ]
  },
  {
   "cell_type": "code",
   "execution_count": 13,
   "metadata": {},
   "outputs": [
    {
     "name": "stdout",
     "output_type": "stream",
     "text": [
      "Introduzca el número del que desea saber su raíz cuadráda1948\n",
      "La raíz por el método tradicional es: 44.13615298142782\n",
      "Introduzca un número arbitrario lo más cercano a 44.13615298142782\n",
      "40\n",
      "Ciclo 1 : 44.35\n",
      "Ciclo 2 : 44.136668545659525\n",
      "El valor obtenido para la raiz de 1948.0 por el método de Herón es: 44.13615298443899\n",
      "Raíz por el método tradicional: 44.13615298142782\n",
      "Raíz por el método de Herón: 44.13615298443899\n",
      "Error en la aproximación de: -2.658030098245945e-07\n"
     ]
    }
   ],
   "source": [
    "print(\"Introduzca el número del que desea saber su raíz cuadráda\", end=\"\" )\n",
    "\n",
    "S=float(input())\n",
    "\n",
    "X0=np.sqrt(S)\n",
    "\n",
    "print(\"La raíz por el método tradicional es:\", X0)\n",
    "\n",
    "print(\"Introduzca un número arbitrario lo más cercano a\", X0)\n",
    "\n",
    "XN=float(input())\n",
    "\n",
    "i=1\n",
    "\n",
    "XN=1/2*(XN+(S/XN))\n",
    "\n",
    "while abs(S-XN**2)>0.01:\n",
    "    \n",
    "    print(\"Ciclo\", i, \":\", XN )\n",
    "    \n",
    "    XN=1/2*(XN+(S/XN))\n",
    "    \n",
    "    i=i+1\n",
    "    \n",
    "    if i>101:\n",
    "        \n",
    "        break\n",
    "        \n",
    "print(\"El valor obtenido para la raiz de\", S, \"por el método de Herón es:\", XN)\n",
    "\n",
    "print(\"Raíz por el método tradicional:\", X0)\n",
    "\n",
    "print(\"Raíz por el método de Herón:\", XN)\n",
    "\n",
    "print(\"Error en la aproximación de:\", (S-XN**2))\n",
    "\n"
   ]
  },
  {
   "cell_type": "markdown",
   "metadata": {},
   "source": [
    "# Ejercicio 4"
   ]
  },
  {
   "cell_type": "code",
   "execution_count": 23,
   "metadata": {},
   "outputs": [
    {
     "name": "stderr",
     "output_type": "stream",
     "text": [
      "<ipython-input-23-104ade8e1b83>:2: RuntimeWarning: invalid value encountered in log\n",
      "  y=np.log(1+x)\n"
     ]
    },
    {
     "data": {
      "image/png": "[encoded data removed]",
      "text/plain": [
       "<Figure size 432x288 with 1 Axes>"
      ]
     },
     "metadata": {
      "needs_background": "light"
     },
     "output_type": "display_data"
    }
   ],
   "source": [
    "x=np.linspace(-1.5,1.5,100) \n",
    "y=np.log(1+x)\n",
    "\n",
    "T4=x-x**2/2+x**3/3-x**4/4\n",
    "T7=x-x**2/2+x**3/3-x**4/4+x**5/5-x**6/6+x**7/7\n",
    "T11=(x-x**2/2+x**3/3-x**4/4+x**5/5-x**6/6+x**7/7-x**8/8+x**9/9-x**(10)/10+x**(11)/11)\n",
    "T16=(x-x**2/2+x**3/3-x**4/4+x**5/5-x**6/6+x**7/7-x**8/8+x**9/9-x**(10)/10+x**(11)/11-x**(12)/12+x**(13)/13-x**(14)/14+x**(15)/15-x**(16)/16)\n",
    "\n",
    "plt.subplot(111)\n",
    "plt.xlabel(\"X\")\n",
    "plt.ylabel(\"Y\")\n",
    "\n",
    "plt.plot(x,sT4, label='Serie de Taylor de orden 4')\n",
    "plt.plot(x,sT7, label='Serie de Taylor de orden 7')\n",
    "plt.plot(x,sT11, label='Serie de Taylor de orden 11')\n",
    "plt.plot(x,sT16, label='Serie de Taylor de orden 16')\n",
    "plt.plot(x,y, label='ln(1+x)')\n",
    "\n",
    "plt.grid(True)\n",
    "\n",
    "plt.ylim(-4, 2)\n",
    "\n",
    "plt.legend(bbox_to_anchor=(1,1), loc=\"upper left\")\n",
    "\n",
    "plt.show()"
   ]
  },
  {
   "cell_type": "code",
   "execution_count": null,
   "metadata": {},
   "outputs": [],
   "source": []
  }
 ],
 "metadata": {
  "kernelspec": {
   "display_name": "Python 3",
   "language": "python",
   "name": "python3"
  },
  "language_info": {
   "codemirror_mode": {
    "name": "ipython",
    "version": 3
   },
   "file_extension": ".py",
   "mimetype": "text/x-python",
   "name": "python",
   "nbconvert_exporter": "python",
   "pygments_lexer": "ipython3",
   "version": "3.8.5"
  }
 },
 "nbformat": 4,
 "nbformat_minor": 4
}
